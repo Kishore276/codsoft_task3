{
  "nbformat": 4,
  "nbformat_minor": 0,
  "metadata": {
    "colab": {
      "provenance": [],
      "authorship_tag": "ABX9TyOev7z+om/IVNYHwDI20geW",
      "include_colab_link": true
    },
    "kernelspec": {
      "name": "python3",
      "display_name": "Python 3"
    },
    "language_info": {
      "name": "python"
    }
  },
  "cells": [
    {
      "cell_type": "markdown",
      "metadata": {
        "id": "view-in-github",
        "colab_type": "text"
      },
      "source": [
        "<a href=\"https://colab.research.google.com/github/Kishore276/codsoft_task3/blob/main/password_genrator.ipynb\" target=\"_parent\"><img src=\"https://colab.research.google.com/assets/colab-badge.svg\" alt=\"Open In Colab\"/></a>"
      ]
    },
    {
      "cell_type": "code",
      "execution_count": null,
      "metadata": {
        "colab": {
          "base_uri": "https://localhost:8080/"
        },
        "id": "RCg6TSZmZn2v",
        "outputId": "b8687bbc-8611-4761-969c-76dc94a35ce7"
      },
      "outputs": [
        {
          "output_type": "stream",
          "name": "stdout",
          "text": [
            "Enter the desired password length: 9\n",
            "Enter the desired complexity level (1 for alphanumeric, 2 for alphanumeric and special characters): 2\n",
            "Your generated password is: 3,f9@*OYi\n"
          ]
        }
      ],
      "source": [
        "import random\n",
        "import string\n",
        "\n",
        "def generate_password(length, complexity):\n",
        "    if complexity == 1:\n",
        "        characters = string.ascii_letters + string.digits\n",
        "    elif complexity == 2:\n",
        "        characters = string.ascii_letters + string.digits + string.punctuation\n",
        "    else:\n",
        "        print(\"Invalid complexity level. Please enter a valid complexity level.\")\n",
        "        exit()\n",
        "    password = ''.join(random.choice(characters) for i in range(length))\n",
        "    if complexity == 1:\n",
        "        if any(char.isdigit() for char in password) and any(char.isalpha() for char in password):\n",
        "            return password\n",
        "        else:\n",
        "            print(\"The generated password does not meet the complexity requirements.\")\n",
        "            return generate_password(length, complexity)\n",
        "    elif complexity == 2:\n",
        "        if any(char.isdigit() for char in password) and any(char.isalpha() for char in password) and any(char in string.punctuation for char in password):\n",
        "            return password\n",
        "        else:\n",
        "            print(\"The generated password does not meet the complexity requirements.\")\n",
        "            return generate_password(length, complexity)\n",
        "length = int(input(\"Enter the desired password length: \"))\n",
        "complexity = int(input(\"Enter the desired complexity level (1 for alphanumeric, 2 for alphanumeric and special characters): \"))\n",
        "password = generate_password(length, complexity)\n",
        "print(f\"Your generated password is: {password}\")"
      ]
    },
    {
      "cell_type": "code",
      "source": [],
      "metadata": {
        "id": "yVwMXiVoaThJ"
      },
      "execution_count": null,
      "outputs": []
    }
  ]
}